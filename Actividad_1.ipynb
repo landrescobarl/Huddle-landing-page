{
  "nbformat": 4,
  "nbformat_minor": 0,
  "metadata": {
    "colab": {
      "name": "Actividad_1",
      "provenance": [],
      "collapsed_sections": [],
      "authorship_tag": "ABX9TyOEZSPMA2UsJ8yXlR2rxh0v",
      "include_colab_link": true
    },
    "kernelspec": {
      "name": "python3",
      "display_name": "Python 3"
    },
    "language_info": {
      "name": "python"
    }
  },
  "cells": [
    {
      "cell_type": "markdown",
      "metadata": {
        "id": "view-in-github",
        "colab_type": "text"
      },
      "source": [
        "<a href=\"https://colab.research.google.com/github/landrescobarl/Huddle-landing-page/blob/main/Actividad_1.ipynb\" target=\"_parent\"><img src=\"https://colab.research.google.com/assets/colab-badge.svg\" alt=\"Open In Colab\"/></a>"
      ]
    },
    {
      "cell_type": "markdown",
      "metadata": {
        "id": "1C2SsBcMhgb9"
      },
      "source": [
        "Ejercicios de Asignación\n",
        "\n",
        "Un alumno desea saber cual **será su promedio general **  en las **tres materias** mas dificiles que cursa y cual será el promedio que obtendrá **en cada una de ellas**. Estas materias se evalúan como se muestra a continuación:\n",
        "\n",
        "La calificación de Matemáticas se obtiene de la sig, manera:\n",
        "*   Examen 90%\n",
        "*   Promedio de tareas 10% En esta materia se pidis un total de tres taras\n",
        "\n",
        "La calificación de Fisica se obtiene de la sig manera:\n",
        "*   Examen 80%\n",
        "*   Promedio de marcas 20%, En esta materia pidió un total de dos tareas\n",
        "\n",
        "La calificación de Química se obtiene de la sig, manera:\n",
        "* Examen 85%\n",
        "* Promedio de tareas 15%. En esta materia se pidió un promedio de tres tareas. \n",
        "\n"
      ]
    },
    {
      "cell_type": "code",
      "metadata": {
        "id": "ipDBTyzyf2Pv"
      },
      "source": [
        "\"\"\" \n",
        "  Variables de entorno\n",
        "\"\"\"\n",
        "prom = 0 \n",
        "mate = 0\n",
        "fisi= 0\n",
        "quim= 0\n",
        "i = 0"
      ],
      "execution_count": null,
      "outputs": []
    },
    {
      "cell_type": "code",
      "metadata": {
        "colab": {
          "base_uri": "https://localhost:8080/"
        },
        "id": "6M6GO7rqxi5X",
        "outputId": "1570d139-bbf6-474d-b21b-333404c45d87"
      },
      "source": [
        "\"\"\" \n",
        "  score\n",
        "\"\"\"\n",
        "\n",
        "print (\".....................................\")\n",
        "\n",
        "while i < 3:\n",
        "  if i < 3:\n",
        "    mate = mate + float(input(\"Ingresa nota Matematicas \" + str(i + 1) + \" : \" ))\n",
        "\n",
        "  if i < 2:\n",
        "    fisi = fisi + float(input(\"Ingresa nota Fisica \"  + str(i + 1) + \" : \" ))\n",
        "\n",
        "  if i < 3:\n",
        "    quim = quim + float(input(\"Ingresa nota Quimica \" + str(i + 1) + \" : \" ))\n",
        "\n",
        "  print (\".....................................\")\n",
        "      \n",
        "  i = i + 1\n",
        "\n",
        "print (\" \")\n",
        "print (\"Calcuando Notas......\")\n",
        "print (\" \")\n",
        "\n",
        "mate = mate * 0.1\n",
        "fisi = fisi * 0.2\n",
        "quim = quim * 0.15\n",
        "\n",
        "mate = mate + (float(input(\"Ingresa Examen Final Matematicas : \" ))) * 0.9\n",
        "fisi = fisi + (float(input(\"Ingresa Examen Final Fisica : \" ))) * 0.8\n",
        "quim = quim + (float(input(\"Ingresa Examen nota Quimica : \" ))) * 0.85\n",
        "\n",
        "prom = mate + fisi + quim3\n",
        "\n",
        "print (\" \")\n",
        "print (\"Calcuando Notas...\")\n",
        "print (\" \")"
      ],
      "execution_count": null,
      "outputs": [
        {
          "output_type": "stream",
          "text": [
            ".....................................\n",
            "Ingresa nota Matematicas 1 : 2.4\n",
            "Ingresa nota Fisica 1 : 3.4\n",
            "Ingresa nota Quimica 1 : 34\n",
            ".....................................\n",
            "Ingresa nota Matematicas 2 : 4\n",
            "Ingresa nota Fisica 2 : 2\n",
            "Ingresa nota Quimica 2 : 4\n",
            ".....................................\n",
            "Ingresa nota Matematicas 3 : 1\n",
            "Ingresa nota Quimica 3 : 2\n",
            ".....................................\n",
            " \n",
            "Calcuando Notas......\n",
            " \n",
            "Ingresa Examen Final Matematicas : 3\n",
            "Ingresa Examen Final Fisica : 4\n",
            "Ingresa Examen nota Quimica : 3\n",
            " \n",
            "Calcuando Notas...\n",
            " \n"
          ],
          "name": "stdout"
        }
      ]
    },
    {
      "cell_type": "code",
      "metadata": {
        "colab": {
          "base_uri": "https://localhost:8080/"
        },
        "id": "KooUvbpd75Qi",
        "outputId": "2278a7df-97dd-478e-a705-342dc7da8b42"
      },
      "source": [
        "\"\"\" \n",
        "  score\n",
        "\"\"\"\n",
        "print (\"Promedio por materia\")\n",
        "print (\"-------------------------------\")\n",
        "print (\"Matematicas | Fisica | Quimica\")\n",
        "print (str(round(mate, 1)), \"        |\", str(round(fisi, 1)), \"   |\", str(round(quim, 1)))\n",
        "print (\"-------------------------------\")\n",
        "print (\"Promedio por general\")\n",
        "print (str(prom / 3))\n",
        "print (\"-------------------------------\")"
      ],
      "execution_count": null,
      "outputs": [
        {
          "output_type": "stream",
          "text": [
            "Promedio por materia\n",
            "-------------------------------\n",
            "Matematicas | Fisica | Quimica\n",
            "3.4         | 4.3    | 8.6\n",
            "-------------------------------\n",
            "Promedio por general\n",
            "5.423333333333335\n",
            "-------------------------------\n"
          ],
          "name": "stdout"
        }
      ]
    },
    {
      "cell_type": "markdown",
      "metadata": {
        "id": "2PqKQSH2jjXo"
      },
      "source": [
        "Tres personas deciden invertir su dinero para fundar una empresa. Cada una de ellas invierte una cantidad distinta. **Obtener el porcentaje que cada quien invierte** con respecto a la cantidad total invertida.\n",
        "\n"
      ]
    },
    {
      "cell_type": "code",
      "metadata": {
        "id": "nKVhAET5MX1s",
        "colab": {
          "base_uri": "https://localhost:8080/"
        },
        "outputId": "66a3a548-9e4c-499c-afa8-97d350284ffd"
      },
      "source": [
        "\"\"\" \n",
        "  Variables de entorno\n",
        "\"\"\"\n",
        "inv1 = float(input(\"Inversion persona 1: \" ))\n",
        "inv2 = float(input(\"Inversion persona 2: \" ))\n",
        "inv3 = float(input(\"Inversion persona 3: \" ))"
      ],
      "execution_count": 32,
      "outputs": [
        {
          "output_type": "stream",
          "text": [
            "Inversion persona 1: 564\n",
            "Inversion persona 2: 657\n",
            "Inversion persona 3: 283\n"
          ],
          "name": "stdout"
        }
      ]
    },
    {
      "cell_type": "code",
      "metadata": {
        "id": "UD_gSQjp5Jav",
        "colab": {
          "base_uri": "https://localhost:8080/"
        },
        "outputId": "271cbced-eeb4-4916-b23b-72d9c064b50b"
      },
      "source": [
        "\"\"\" \n",
        "  score\n",
        "\"\"\"\n",
        "print (\"Calculando ........ \")\n",
        "\n",
        "invTotal= inv1 + inv2 + inv3\n",
        "\n",
        "total = invTotal\n",
        "\n",
        "inv1 = round((inv1/invTotal)*100,2)\n",
        "\n",
        "inv2 = round((inv2/invTotal)*100,2)\n",
        "\n",
        "inv3 = round((inv3/invTotal)*100,2)\n"
      ],
      "execution_count": 33,
      "outputs": [
        {
          "output_type": "stream",
          "text": [
            "Calculando ........ \n"
          ],
          "name": "stdout"
        }
      ]
    },
    {
      "cell_type": "code",
      "metadata": {
        "colab": {
          "base_uri": "https://localhost:8080/"
        },
        "id": "PkrTffUeDBli",
        "outputId": "f1cc3fb7-f8ec-4228-c5f7-2e4d38617c42"
      },
      "source": [
        "print (\"Invercion Total: \", str(total))\n",
        "print (\"------------------------------------------\")\n",
        "print (\"Inversion 1  |  Inversion 2 | Inversion 3\")\n",
        "print (\"------------------------------------------\")\n",
        "print (\"%\", str(inv1),\"     | %\",str(inv2), \"     | %\", str(inv3))\n"
      ],
      "execution_count": 34,
      "outputs": [
        {
          "output_type": "stream",
          "text": [
            "Invercion Total:  1504.0\n",
            "------------------------------------------\n",
            "Inversion 1  |  Inversion 2 | Inversion 3\n",
            "------------------------------------------\n",
            "% 37.5      | % 43.68      | % 18.82\n"
          ],
          "name": "stdout"
        }
      ]
    }
  ]
}